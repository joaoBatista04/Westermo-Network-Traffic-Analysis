{
 "cells": [
  {
   "cell_type": "markdown",
   "metadata": {},
   "source": [
    "**LEITURA DOS DADOS DO CSV DATA_BOTTOM**"
   ]
  },
  {
   "cell_type": "code",
   "execution_count": 8,
   "metadata": {},
   "outputs": [
    {
     "data": {
      "text/html": [
       "<div>\n",
       "<style scoped>\n",
       "    .dataframe tbody tr th:only-of-type {\n",
       "        vertical-align: middle;\n",
       "    }\n",
       "\n",
       "    .dataframe tbody tr th {\n",
       "        vertical-align: top;\n",
       "    }\n",
       "\n",
       "    .dataframe thead th {\n",
       "        text-align: right;\n",
       "    }\n",
       "</style>\n",
       "<table border=\"1\" class=\"dataframe\">\n",
       "  <thead>\n",
       "    <tr style=\"text-align: right;\">\n",
       "      <th></th>\n",
       "      <th>sAddress</th>\n",
       "      <th>rAddress</th>\n",
       "      <th>sMACs</th>\n",
       "      <th>rMACs</th>\n",
       "      <th>sIPs</th>\n",
       "      <th>rIPs</th>\n",
       "      <th>protocol</th>\n",
       "      <th>startDate</th>\n",
       "      <th>endDate</th>\n",
       "      <th>start</th>\n",
       "      <th>...</th>\n",
       "      <th>sAckDelayMax</th>\n",
       "      <th>rAckDelayMax</th>\n",
       "      <th>sAckDelayMin</th>\n",
       "      <th>rAckDelayMin</th>\n",
       "      <th>sAckDelayAvg</th>\n",
       "      <th>rAckDelayAvg</th>\n",
       "      <th>IT_B_Label</th>\n",
       "      <th>IT_M_Label</th>\n",
       "      <th>NST_B_Label</th>\n",
       "      <th>NST_M_Label</th>\n",
       "    </tr>\n",
       "  </thead>\n",
       "  <tbody>\n",
       "    <tr>\n",
       "      <th>0</th>\n",
       "      <td>198.18.134.11</td>\n",
       "      <td>198.18.134.12</td>\n",
       "      <td>b8:27:eb:6d:4f:4b</td>\n",
       "      <td>b8:27:eb:5b:50:19</td>\n",
       "      <td>198.18.134.11</td>\n",
       "      <td>198.18.134.12</td>\n",
       "      <td>IPV4-TCP</td>\n",
       "      <td>2023-03-10 10:29:34.085540</td>\n",
       "      <td>2023-03-10 10:29:34.565764</td>\n",
       "      <td>1.678441e+09</td>\n",
       "      <td>...</td>\n",
       "      <td>0.198</td>\n",
       "      <td>0.200</td>\n",
       "      <td>0.0</td>\n",
       "      <td>0.0</td>\n",
       "      <td>0.020279</td>\n",
       "      <td>0.028912</td>\n",
       "      <td>0</td>\n",
       "      <td>Normal</td>\n",
       "      <td>0</td>\n",
       "      <td>Normal</td>\n",
       "    </tr>\n",
       "    <tr>\n",
       "      <th>1</th>\n",
       "      <td>198.18.134.12</td>\n",
       "      <td>198.18.134.31</td>\n",
       "      <td>b8:27:eb:5b:50:19</td>\n",
       "      <td>b8:27:eb:3e:5d:96</td>\n",
       "      <td>198.18.134.12</td>\n",
       "      <td>198.18.134.31</td>\n",
       "      <td>IPV4-TCP</td>\n",
       "      <td>2023-03-10 10:29:34.090079</td>\n",
       "      <td>2023-03-10 10:29:34.500119</td>\n",
       "      <td>1.678441e+09</td>\n",
       "      <td>...</td>\n",
       "      <td>0.195</td>\n",
       "      <td>0.001</td>\n",
       "      <td>0.0</td>\n",
       "      <td>0.0</td>\n",
       "      <td>0.020338</td>\n",
       "      <td>0.000455</td>\n",
       "      <td>0</td>\n",
       "      <td>Normal</td>\n",
       "      <td>0</td>\n",
       "      <td>Normal</td>\n",
       "    </tr>\n",
       "    <tr>\n",
       "      <th>2</th>\n",
       "      <td>198.18.134.11</td>\n",
       "      <td>198.18.134.31</td>\n",
       "      <td>b8:27:eb:6d:4f:4b</td>\n",
       "      <td>b8:27:eb:3e:5d:96</td>\n",
       "      <td>198.18.134.11</td>\n",
       "      <td>198.18.134.31</td>\n",
       "      <td>IPV4-TCP</td>\n",
       "      <td>2023-03-10 10:29:34.160288</td>\n",
       "      <td>2023-03-10 10:29:34.623275</td>\n",
       "      <td>1.678441e+09</td>\n",
       "      <td>...</td>\n",
       "      <td>0.190</td>\n",
       "      <td>0.001</td>\n",
       "      <td>0.0</td>\n",
       "      <td>0.0</td>\n",
       "      <td>0.015988</td>\n",
       "      <td>0.000537</td>\n",
       "      <td>0</td>\n",
       "      <td>Normal</td>\n",
       "      <td>0</td>\n",
       "      <td>Normal</td>\n",
       "    </tr>\n",
       "    <tr>\n",
       "      <th>3</th>\n",
       "      <td>198.18.134.11</td>\n",
       "      <td>198.18.134.15</td>\n",
       "      <td>b8:27:eb:6d:4f:4b</td>\n",
       "      <td>b8:27:eb:15:88:9c</td>\n",
       "      <td>198.18.134.11</td>\n",
       "      <td>198.18.134.15</td>\n",
       "      <td>IPV4-TCP</td>\n",
       "      <td>2023-03-10 10:29:34.416492</td>\n",
       "      <td>2023-03-10 10:29:34.916407</td>\n",
       "      <td>1.678441e+09</td>\n",
       "      <td>...</td>\n",
       "      <td>0.001</td>\n",
       "      <td>0.491</td>\n",
       "      <td>0.0</td>\n",
       "      <td>0.0</td>\n",
       "      <td>0.000578</td>\n",
       "      <td>0.048820</td>\n",
       "      <td>0</td>\n",
       "      <td>Normal</td>\n",
       "      <td>0</td>\n",
       "      <td>Normal</td>\n",
       "    </tr>\n",
       "    <tr>\n",
       "      <th>4</th>\n",
       "      <td>198.18.134.12</td>\n",
       "      <td>198.18.134.15</td>\n",
       "      <td>b8:27:eb:5b:50:19</td>\n",
       "      <td>b8:27:eb:15:88:9c</td>\n",
       "      <td>198.18.134.12</td>\n",
       "      <td>198.18.134.15</td>\n",
       "      <td>IPV4-TCP</td>\n",
       "      <td>2023-03-10 10:29:34.425676</td>\n",
       "      <td>2023-03-10 10:29:34.925551</td>\n",
       "      <td>1.678441e+09</td>\n",
       "      <td>...</td>\n",
       "      <td>0.000</td>\n",
       "      <td>0.496</td>\n",
       "      <td>0.0</td>\n",
       "      <td>0.0</td>\n",
       "      <td>0.000423</td>\n",
       "      <td>0.077478</td>\n",
       "      <td>0</td>\n",
       "      <td>Normal</td>\n",
       "      <td>0</td>\n",
       "      <td>Normal</td>\n",
       "    </tr>\n",
       "  </tbody>\n",
       "</table>\n",
       "<p>5 rows × 64 columns</p>\n",
       "</div>"
      ],
      "text/plain": [
       "        sAddress       rAddress              sMACs              rMACs  \\\n",
       "0  198.18.134.11  198.18.134.12  b8:27:eb:6d:4f:4b  b8:27:eb:5b:50:19   \n",
       "1  198.18.134.12  198.18.134.31  b8:27:eb:5b:50:19  b8:27:eb:3e:5d:96   \n",
       "2  198.18.134.11  198.18.134.31  b8:27:eb:6d:4f:4b  b8:27:eb:3e:5d:96   \n",
       "3  198.18.134.11  198.18.134.15  b8:27:eb:6d:4f:4b  b8:27:eb:15:88:9c   \n",
       "4  198.18.134.12  198.18.134.15  b8:27:eb:5b:50:19  b8:27:eb:15:88:9c   \n",
       "\n",
       "            sIPs           rIPs  protocol                   startDate  \\\n",
       "0  198.18.134.11  198.18.134.12  IPV4-TCP  2023-03-10 10:29:34.085540   \n",
       "1  198.18.134.12  198.18.134.31  IPV4-TCP  2023-03-10 10:29:34.090079   \n",
       "2  198.18.134.11  198.18.134.31  IPV4-TCP  2023-03-10 10:29:34.160288   \n",
       "3  198.18.134.11  198.18.134.15  IPV4-TCP  2023-03-10 10:29:34.416492   \n",
       "4  198.18.134.12  198.18.134.15  IPV4-TCP  2023-03-10 10:29:34.425676   \n",
       "\n",
       "                      endDate         start  ...  sAckDelayMax  rAckDelayMax  \\\n",
       "0  2023-03-10 10:29:34.565764  1.678441e+09  ...         0.198         0.200   \n",
       "1  2023-03-10 10:29:34.500119  1.678441e+09  ...         0.195         0.001   \n",
       "2  2023-03-10 10:29:34.623275  1.678441e+09  ...         0.190         0.001   \n",
       "3  2023-03-10 10:29:34.916407  1.678441e+09  ...         0.001         0.491   \n",
       "4  2023-03-10 10:29:34.925551  1.678441e+09  ...         0.000         0.496   \n",
       "\n",
       "   sAckDelayMin  rAckDelayMin  sAckDelayAvg  rAckDelayAvg  IT_B_Label  \\\n",
       "0           0.0           0.0      0.020279      0.028912           0   \n",
       "1           0.0           0.0      0.020338      0.000455           0   \n",
       "2           0.0           0.0      0.015988      0.000537           0   \n",
       "3           0.0           0.0      0.000578      0.048820           0   \n",
       "4           0.0           0.0      0.000423      0.077478           0   \n",
       "\n",
       "   IT_M_Label  NST_B_Label  NST_M_Label  \n",
       "0      Normal            0       Normal  \n",
       "1      Normal            0       Normal  \n",
       "2      Normal            0       Normal  \n",
       "3      Normal            0       Normal  \n",
       "4      Normal            0       Normal  \n",
       "\n",
       "[5 rows x 64 columns]"
      ]
     },
     "execution_count": 8,
     "metadata": {},
     "output_type": "execute_result"
    }
   ],
   "source": [
    "import pandas as pd\n",
    "\n",
    "data_bottom = pd.read_csv(\"../data/output_bottom.csv\", sep=\",\")\n",
    "\n",
    "data_bottom.head()"
   ]
  },
  {
   "cell_type": "code",
   "execution_count": 9,
   "metadata": {},
   "outputs": [
    {
     "data": {
      "text/plain": [
       "(55425, 64)"
      ]
     },
     "execution_count": 9,
     "metadata": {},
     "output_type": "execute_result"
    }
   ],
   "source": [
    "data_bottom.shape"
   ]
  },
  {
   "cell_type": "markdown",
   "metadata": {},
   "source": [
    "**LIMPEZA DO DATASET - REMOÇÃO DE COLUNAS NULAS**"
   ]
  },
  {
   "cell_type": "code",
   "execution_count": 10,
   "metadata": {},
   "outputs": [
    {
     "data": {
      "text/plain": [
       "sAddress          34\n",
       "rAddress          18\n",
       "sMACs             20\n",
       "rMACs             16\n",
       "sIPs              21\n",
       "                ... \n",
       "rAckDelayAvg    8751\n",
       "IT_B_Label         2\n",
       "IT_M_Label         8\n",
       "NST_B_Label        2\n",
       "NST_M_Label        8\n",
       "Length: 64, dtype: int64"
      ]
     },
     "execution_count": 10,
     "metadata": {},
     "output_type": "execute_result"
    }
   ],
   "source": [
    "data_bottom.nunique()"
   ]
  },
  {
   "cell_type": "code",
   "execution_count": 11,
   "metadata": {},
   "outputs": [
    {
     "data": {
      "text/plain": [
       "sAddress           0\n",
       "rAddress           0\n",
       "sMACs              0\n",
       "rMACs              0\n",
       "sIPs            3855\n",
       "                ... \n",
       "rAckDelayAvg    7511\n",
       "IT_B_Label         0\n",
       "IT_M_Label         0\n",
       "NST_B_Label        0\n",
       "NST_M_Label        0\n",
       "Length: 64, dtype: int64"
      ]
     },
     "execution_count": 11,
     "metadata": {},
     "output_type": "execute_result"
    }
   ],
   "source": [
    "data_bottom.isnull().sum()"
   ]
  },
  {
   "cell_type": "code",
   "execution_count": 12,
   "metadata": {},
   "outputs": [],
   "source": [
    "data_bottom = data_bottom.dropna(subset=[\"rAckDelayAvg\", \"sInterPacketAvg\", \"sIPs\", \"rInterPacketAvg\", \"sAckDelayMax\", \"sAckDelayMin\", \"sAckDelayAvg\"])"
   ]
  },
  {
   "cell_type": "code",
   "execution_count": 13,
   "metadata": {},
   "outputs": [
    {
     "data": {
      "text/plain": [
       "sAddress  rAddress  sMACs  rMACs  sIPs   rIPs   protocol  startDate  endDate  start  end    startOffset  endOffset  duration  sPackets  rPackets  sBytesSum  rBytesSum  sBytesMax  rBytesMax  sBytesMin  rBytesMin  sBytesAvg  rBytesAvg  sLoad  rLoad  sPayloadSum  rPayloadSum  sPayloadMax  rPayloadMax  sPayloadMin  rPayloadMin  sPayloadAvg  rPayloadAvg  sInterPacketAvg  rInterPacketAvg  sttl   rttl   sAckRate  rAckRate  sUrgRate  rUrgRate  sFinRate  rFinRate  sPshRate  rPshRate  sSynRate  rSynRate  sRstRate  rRstRate  sWinTCP  rWinTCP  sFragmentRate  rFragmentRate  sAckDelayMax  rAckDelayMax  sAckDelayMin  rAckDelayMin  sAckDelayAvg  rAckDelayAvg  IT_B_Label  IT_M_Label  NST_B_Label  NST_M_Label\n",
       "False     False     False  False  False  False  False     False      False    False  False  False        False      False     False     False     False      False      False      False      False      False      False      False      False  False  False        False        False        False        False        False        False        False        False            False            False  False  False     False     False     False     False     False     False     False     False     False     False     False     False    False    False          False          False         False         False         False         False         False         False       False       False        False          47739\n",
       "dtype: int64"
      ]
     },
     "execution_count": 13,
     "metadata": {},
     "output_type": "execute_result"
    }
   ],
   "source": [
    "data_bottom.isnull().value_counts()"
   ]
  },
  {
   "cell_type": "markdown",
   "metadata": {},
   "source": [
    "**CONVERSÃO DE FEATURES SIMBÓLICAS PARA FEATURES NUMÉRICAS**"
   ]
  },
  {
   "cell_type": "code",
   "execution_count": 14,
   "metadata": {},
   "outputs": [
    {
     "data": {
      "text/plain": [
       "array([0, 1, 2, 3, 4, 5, 6])"
      ]
     },
     "execution_count": 14,
     "metadata": {},
     "output_type": "execute_result"
    }
   ],
   "source": [
    "data_bottom[\"sAddress\"].replace([\"198.18.134.11\", \"198.18.134.12\", \"198.18.134.6\", \"198.18.134.38\", \"198.18.134.40\", \"198.18.134.47\", \"198.18.134.49\"], [0, 1, 2, 3, 4, 5, 6], inplace=True)\n",
    "data_bottom[\"sAddress\"].unique()"
   ]
  },
  {
   "cell_type": "code",
   "execution_count": 15,
   "metadata": {},
   "outputs": [
    {
     "data": {
      "text/plain": [
       "array([0, 1, 2, 3])"
      ]
     },
     "execution_count": 15,
     "metadata": {},
     "output_type": "execute_result"
    }
   ],
   "source": [
    "data_bottom[\"rAddress\"].replace(['198.18.134.12', '198.18.134.31', '198.18.134.15', '198.18.134.99'], [0, 1, 2, 3], inplace=True)\n",
    "data_bottom[\"rAddress\"].unique()"
   ]
  },
  {
   "cell_type": "code",
   "execution_count": 16,
   "metadata": {},
   "outputs": [
    {
     "data": {
      "text/plain": [
       "array([0, 1, 2])"
      ]
     },
     "execution_count": 16,
     "metadata": {},
     "output_type": "execute_result"
    }
   ],
   "source": [
    "data_bottom[\"sMACs\"].replace(['b8:27:eb:6d:4f:4b', 'b8:27:eb:5b:50:19', '00:07:7c:8c:43:63'], [0, 1, 2], inplace=True)\n",
    "data_bottom[\"sMACs\"].unique()"
   ]
  },
  {
   "cell_type": "code",
   "execution_count": 17,
   "metadata": {},
   "outputs": [
    {
     "data": {
      "text/plain": [
       "array([0, 1, 2, 3, 4, 5, 6])"
      ]
     },
     "execution_count": 17,
     "metadata": {},
     "output_type": "execute_result"
    }
   ],
   "source": [
    "data_bottom[\"rMACs\"].replace(['b8:27:eb:5b:50:19', 'b8:27:eb:3e:5d:96', 'b8:27:eb:15:88:9c',\n",
    "       'b8:27:eb:d1:b7:ef', 'b8:27:eb:d1:b7:ef/b8:27:eb:15:88:9c',\n",
    "       '00:07:7c:88:6e:83/00:24:9b:6d:b8:89', '00:24:9b:6d:b8:89'], [0, 1, 2, 3, 4, 5, 6], inplace=True)\n",
    "data_bottom[\"rMACs\"].unique()"
   ]
  },
  {
   "cell_type": "code",
   "execution_count": 18,
   "metadata": {},
   "outputs": [
    {
     "data": {
      "text/plain": [
       "array([0, 1, 2, 3, 4, 5, 6])"
      ]
     },
     "execution_count": 18,
     "metadata": {},
     "output_type": "execute_result"
    }
   ],
   "source": [
    "data_bottom[\"sIPs\"].replace(['198.18.134.11', '198.18.134.12', '198.18.134.6', '198.18.134.38',\n",
    "       '198.18.134.40', '198.18.134.47', '198.18.134.49'], [0, 1, 2, 3, 4, 5, 6], inplace=True)\n",
    "data_bottom[\"sIPs\"].unique()"
   ]
  },
  {
   "cell_type": "code",
   "execution_count": 19,
   "metadata": {},
   "outputs": [
    {
     "data": {
      "text/plain": [
       "array([0, 1, 2, 3])"
      ]
     },
     "execution_count": 19,
     "metadata": {},
     "output_type": "execute_result"
    }
   ],
   "source": [
    "data_bottom[\"rIPs\"].replace(['198.18.134.12', '198.18.134.31', '198.18.134.15', '198.18.134.99'], [0, 1, 2, 3], inplace=True)\n",
    "data_bottom[\"rIPs\"].unique()"
   ]
  },
  {
   "cell_type": "code",
   "execution_count": 20,
   "metadata": {},
   "outputs": [
    {
     "data": {
      "text/plain": [
       "array([0])"
      ]
     },
     "execution_count": 20,
     "metadata": {},
     "output_type": "execute_result"
    }
   ],
   "source": [
    "data_bottom[\"protocol\"].replace(['IPV4-TCP'], [0], inplace=True)\n",
    "data_bottom[\"protocol\"].unique()"
   ]
  },
  {
   "cell_type": "code",
   "execution_count": 21,
   "metadata": {},
   "outputs": [
    {
     "data": {
      "text/plain": [
       "array([0, 1])"
      ]
     },
     "execution_count": 21,
     "metadata": {},
     "output_type": "execute_result"
    }
   ],
   "source": [
    "data_bottom[\"IT_M_Label\"].replace(['Normal', 'BAD-MITM', 'BAD-MISCONF-DUPLICATION', 'BAD-SSH',\n",
    "       'GOOD-SSH', 'BAD-PORTSCAN1', 'BAD-MISCONF', 'BAD-PORTSCAN2'], [0, 1, 1, 1, 1, 1, 1, 1], inplace=True)\n",
    "data_bottom[\"IT_M_Label\"].unique()"
   ]
  },
  {
   "cell_type": "code",
   "execution_count": 22,
   "metadata": {},
   "outputs": [
    {
     "data": {
      "text/plain": [
       "array([0, 1])"
      ]
     },
     "execution_count": 22,
     "metadata": {},
     "output_type": "execute_result"
    }
   ],
   "source": [
    "data_bottom[\"NST_M_Label\"].replace(['Normal', 'BAD-MITM', 'BAD-MISCONF-DUPLICATION', 'BAD-SSH',\n",
    "       'BAD-MISCONF', 'GOOD-SSH'], [0, 1, 1, 1, 1, 1], inplace=True)\n",
    "data_bottom[\"NST_M_Label\"].unique()"
   ]
  },
  {
   "cell_type": "markdown",
   "metadata": {},
   "source": [
    "**UTILIZAÇÃO DE ONE HOT ENCODING PARA AS FEATURES SIMBÓLICAS**"
   ]
  },
  {
   "cell_type": "code",
   "execution_count": 23,
   "metadata": {},
   "outputs": [
    {
     "data": {
      "text/html": [
       "<div>\n",
       "<style scoped>\n",
       "    .dataframe tbody tr th:only-of-type {\n",
       "        vertical-align: middle;\n",
       "    }\n",
       "\n",
       "    .dataframe tbody tr th {\n",
       "        vertical-align: top;\n",
       "    }\n",
       "\n",
       "    .dataframe thead th {\n",
       "        text-align: right;\n",
       "    }\n",
       "</style>\n",
       "<table border=\"1\" class=\"dataframe\">\n",
       "  <thead>\n",
       "    <tr style=\"text-align: right;\">\n",
       "      <th></th>\n",
       "      <th>onehotencoder__sAddress_0</th>\n",
       "      <th>onehotencoder__sAddress_1</th>\n",
       "      <th>onehotencoder__sAddress_2</th>\n",
       "      <th>onehotencoder__sAddress_3</th>\n",
       "      <th>onehotencoder__sAddress_4</th>\n",
       "      <th>onehotencoder__sAddress_5</th>\n",
       "      <th>onehotencoder__sAddress_6</th>\n",
       "      <th>onehotencoder__rAddress_0</th>\n",
       "      <th>onehotencoder__rAddress_1</th>\n",
       "      <th>onehotencoder__rAddress_2</th>\n",
       "      <th>...</th>\n",
       "      <th>remainder__sAckDelayMax</th>\n",
       "      <th>remainder__rAckDelayMax</th>\n",
       "      <th>remainder__sAckDelayMin</th>\n",
       "      <th>remainder__rAckDelayMin</th>\n",
       "      <th>remainder__sAckDelayAvg</th>\n",
       "      <th>remainder__rAckDelayAvg</th>\n",
       "      <th>remainder__IT_B_Label</th>\n",
       "      <th>remainder__IT_M_Label</th>\n",
       "      <th>remainder__NST_B_Label</th>\n",
       "      <th>remainder__NST_M_Label</th>\n",
       "    </tr>\n",
       "  </thead>\n",
       "  <tbody>\n",
       "    <tr>\n",
       "      <th>0</th>\n",
       "      <td>1.0</td>\n",
       "      <td>0.0</td>\n",
       "      <td>0.0</td>\n",
       "      <td>0.0</td>\n",
       "      <td>0.0</td>\n",
       "      <td>0.0</td>\n",
       "      <td>0.0</td>\n",
       "      <td>1.0</td>\n",
       "      <td>0.0</td>\n",
       "      <td>0.0</td>\n",
       "      <td>...</td>\n",
       "      <td>0.198</td>\n",
       "      <td>0.2</td>\n",
       "      <td>0.0</td>\n",
       "      <td>0.0</td>\n",
       "      <td>0.020279</td>\n",
       "      <td>0.028912</td>\n",
       "      <td>0</td>\n",
       "      <td>0</td>\n",
       "      <td>0</td>\n",
       "      <td>0</td>\n",
       "    </tr>\n",
       "    <tr>\n",
       "      <th>1</th>\n",
       "      <td>0.0</td>\n",
       "      <td>1.0</td>\n",
       "      <td>0.0</td>\n",
       "      <td>0.0</td>\n",
       "      <td>0.0</td>\n",
       "      <td>0.0</td>\n",
       "      <td>0.0</td>\n",
       "      <td>0.0</td>\n",
       "      <td>1.0</td>\n",
       "      <td>0.0</td>\n",
       "      <td>...</td>\n",
       "      <td>0.195</td>\n",
       "      <td>0.001</td>\n",
       "      <td>0.0</td>\n",
       "      <td>0.0</td>\n",
       "      <td>0.020338</td>\n",
       "      <td>0.000455</td>\n",
       "      <td>0</td>\n",
       "      <td>0</td>\n",
       "      <td>0</td>\n",
       "      <td>0</td>\n",
       "    </tr>\n",
       "    <tr>\n",
       "      <th>2</th>\n",
       "      <td>1.0</td>\n",
       "      <td>0.0</td>\n",
       "      <td>0.0</td>\n",
       "      <td>0.0</td>\n",
       "      <td>0.0</td>\n",
       "      <td>0.0</td>\n",
       "      <td>0.0</td>\n",
       "      <td>0.0</td>\n",
       "      <td>1.0</td>\n",
       "      <td>0.0</td>\n",
       "      <td>...</td>\n",
       "      <td>0.19</td>\n",
       "      <td>0.001</td>\n",
       "      <td>0.0</td>\n",
       "      <td>0.0</td>\n",
       "      <td>0.015988</td>\n",
       "      <td>0.000537</td>\n",
       "      <td>0</td>\n",
       "      <td>0</td>\n",
       "      <td>0</td>\n",
       "      <td>0</td>\n",
       "    </tr>\n",
       "    <tr>\n",
       "      <th>3</th>\n",
       "      <td>1.0</td>\n",
       "      <td>0.0</td>\n",
       "      <td>0.0</td>\n",
       "      <td>0.0</td>\n",
       "      <td>0.0</td>\n",
       "      <td>0.0</td>\n",
       "      <td>0.0</td>\n",
       "      <td>0.0</td>\n",
       "      <td>0.0</td>\n",
       "      <td>1.0</td>\n",
       "      <td>...</td>\n",
       "      <td>0.001</td>\n",
       "      <td>0.491</td>\n",
       "      <td>0.0</td>\n",
       "      <td>0.0</td>\n",
       "      <td>0.000578</td>\n",
       "      <td>0.04882</td>\n",
       "      <td>0</td>\n",
       "      <td>0</td>\n",
       "      <td>0</td>\n",
       "      <td>0</td>\n",
       "    </tr>\n",
       "    <tr>\n",
       "      <th>4</th>\n",
       "      <td>0.0</td>\n",
       "      <td>1.0</td>\n",
       "      <td>0.0</td>\n",
       "      <td>0.0</td>\n",
       "      <td>0.0</td>\n",
       "      <td>0.0</td>\n",
       "      <td>0.0</td>\n",
       "      <td>0.0</td>\n",
       "      <td>0.0</td>\n",
       "      <td>1.0</td>\n",
       "      <td>...</td>\n",
       "      <td>0.0</td>\n",
       "      <td>0.496</td>\n",
       "      <td>0.0</td>\n",
       "      <td>0.0</td>\n",
       "      <td>0.000423</td>\n",
       "      <td>0.077478</td>\n",
       "      <td>0</td>\n",
       "      <td>0</td>\n",
       "      <td>0</td>\n",
       "      <td>0</td>\n",
       "    </tr>\n",
       "    <tr>\n",
       "      <th>...</th>\n",
       "      <td>...</td>\n",
       "      <td>...</td>\n",
       "      <td>...</td>\n",
       "      <td>...</td>\n",
       "      <td>...</td>\n",
       "      <td>...</td>\n",
       "      <td>...</td>\n",
       "      <td>...</td>\n",
       "      <td>...</td>\n",
       "      <td>...</td>\n",
       "      <td>...</td>\n",
       "      <td>...</td>\n",
       "      <td>...</td>\n",
       "      <td>...</td>\n",
       "      <td>...</td>\n",
       "      <td>...</td>\n",
       "      <td>...</td>\n",
       "      <td>...</td>\n",
       "      <td>...</td>\n",
       "      <td>...</td>\n",
       "      <td>...</td>\n",
       "    </tr>\n",
       "    <tr>\n",
       "      <th>47734</th>\n",
       "      <td>1.0</td>\n",
       "      <td>0.0</td>\n",
       "      <td>0.0</td>\n",
       "      <td>0.0</td>\n",
       "      <td>0.0</td>\n",
       "      <td>0.0</td>\n",
       "      <td>0.0</td>\n",
       "      <td>0.0</td>\n",
       "      <td>0.0</td>\n",
       "      <td>1.0</td>\n",
       "      <td>...</td>\n",
       "      <td>0.001</td>\n",
       "      <td>0.042</td>\n",
       "      <td>0.0</td>\n",
       "      <td>0.0</td>\n",
       "      <td>0.000525</td>\n",
       "      <td>0.005118</td>\n",
       "      <td>0</td>\n",
       "      <td>0</td>\n",
       "      <td>0</td>\n",
       "      <td>0</td>\n",
       "    </tr>\n",
       "    <tr>\n",
       "      <th>47735</th>\n",
       "      <td>0.0</td>\n",
       "      <td>1.0</td>\n",
       "      <td>0.0</td>\n",
       "      <td>0.0</td>\n",
       "      <td>0.0</td>\n",
       "      <td>0.0</td>\n",
       "      <td>0.0</td>\n",
       "      <td>0.0</td>\n",
       "      <td>0.0</td>\n",
       "      <td>1.0</td>\n",
       "      <td>...</td>\n",
       "      <td>0.0</td>\n",
       "      <td>0.041</td>\n",
       "      <td>0.0</td>\n",
       "      <td>0.001</td>\n",
       "      <td>0.000436</td>\n",
       "      <td>0.01411</td>\n",
       "      <td>0</td>\n",
       "      <td>0</td>\n",
       "      <td>0</td>\n",
       "      <td>0</td>\n",
       "    </tr>\n",
       "    <tr>\n",
       "      <th>47736</th>\n",
       "      <td>0.0</td>\n",
       "      <td>0.0</td>\n",
       "      <td>1.0</td>\n",
       "      <td>0.0</td>\n",
       "      <td>0.0</td>\n",
       "      <td>0.0</td>\n",
       "      <td>0.0</td>\n",
       "      <td>0.0</td>\n",
       "      <td>0.0</td>\n",
       "      <td>0.0</td>\n",
       "      <td>...</td>\n",
       "      <td>0.018</td>\n",
       "      <td>0.015</td>\n",
       "      <td>0.001</td>\n",
       "      <td>0.0</td>\n",
       "      <td>0.004494</td>\n",
       "      <td>0.001453</td>\n",
       "      <td>1</td>\n",
       "      <td>1</td>\n",
       "      <td>1</td>\n",
       "      <td>1</td>\n",
       "    </tr>\n",
       "    <tr>\n",
       "      <th>47737</th>\n",
       "      <td>0.0</td>\n",
       "      <td>0.0</td>\n",
       "      <td>0.0</td>\n",
       "      <td>1.0</td>\n",
       "      <td>0.0</td>\n",
       "      <td>0.0</td>\n",
       "      <td>0.0</td>\n",
       "      <td>0.0</td>\n",
       "      <td>0.0</td>\n",
       "      <td>0.0</td>\n",
       "      <td>...</td>\n",
       "      <td>0.0</td>\n",
       "      <td>0.002</td>\n",
       "      <td>0.0</td>\n",
       "      <td>0.0</td>\n",
       "      <td>0.000493</td>\n",
       "      <td>0.001058</td>\n",
       "      <td>1</td>\n",
       "      <td>1</td>\n",
       "      <td>1</td>\n",
       "      <td>1</td>\n",
       "    </tr>\n",
       "    <tr>\n",
       "      <th>47738</th>\n",
       "      <td>0.0</td>\n",
       "      <td>0.0</td>\n",
       "      <td>0.0</td>\n",
       "      <td>0.0</td>\n",
       "      <td>1.0</td>\n",
       "      <td>0.0</td>\n",
       "      <td>0.0</td>\n",
       "      <td>0.0</td>\n",
       "      <td>0.0</td>\n",
       "      <td>0.0</td>\n",
       "      <td>...</td>\n",
       "      <td>0.014</td>\n",
       "      <td>0.058</td>\n",
       "      <td>0.001</td>\n",
       "      <td>0.0</td>\n",
       "      <td>0.004121</td>\n",
       "      <td>0.005323</td>\n",
       "      <td>1</td>\n",
       "      <td>1</td>\n",
       "      <td>1</td>\n",
       "      <td>1</td>\n",
       "    </tr>\n",
       "  </tbody>\n",
       "</table>\n",
       "<p>47739 rows × 88 columns</p>\n",
       "</div>"
      ],
      "text/plain": [
       "      onehotencoder__sAddress_0 onehotencoder__sAddress_1  \\\n",
       "0                           1.0                       0.0   \n",
       "1                           0.0                       1.0   \n",
       "2                           1.0                       0.0   \n",
       "3                           1.0                       0.0   \n",
       "4                           0.0                       1.0   \n",
       "...                         ...                       ...   \n",
       "47734                       1.0                       0.0   \n",
       "47735                       0.0                       1.0   \n",
       "47736                       0.0                       0.0   \n",
       "47737                       0.0                       0.0   \n",
       "47738                       0.0                       0.0   \n",
       "\n",
       "      onehotencoder__sAddress_2 onehotencoder__sAddress_3  \\\n",
       "0                           0.0                       0.0   \n",
       "1                           0.0                       0.0   \n",
       "2                           0.0                       0.0   \n",
       "3                           0.0                       0.0   \n",
       "4                           0.0                       0.0   \n",
       "...                         ...                       ...   \n",
       "47734                       0.0                       0.0   \n",
       "47735                       0.0                       0.0   \n",
       "47736                       1.0                       0.0   \n",
       "47737                       0.0                       1.0   \n",
       "47738                       0.0                       0.0   \n",
       "\n",
       "      onehotencoder__sAddress_4 onehotencoder__sAddress_5  \\\n",
       "0                           0.0                       0.0   \n",
       "1                           0.0                       0.0   \n",
       "2                           0.0                       0.0   \n",
       "3                           0.0                       0.0   \n",
       "4                           0.0                       0.0   \n",
       "...                         ...                       ...   \n",
       "47734                       0.0                       0.0   \n",
       "47735                       0.0                       0.0   \n",
       "47736                       0.0                       0.0   \n",
       "47737                       0.0                       0.0   \n",
       "47738                       1.0                       0.0   \n",
       "\n",
       "      onehotencoder__sAddress_6 onehotencoder__rAddress_0  \\\n",
       "0                           0.0                       1.0   \n",
       "1                           0.0                       0.0   \n",
       "2                           0.0                       0.0   \n",
       "3                           0.0                       0.0   \n",
       "4                           0.0                       0.0   \n",
       "...                         ...                       ...   \n",
       "47734                       0.0                       0.0   \n",
       "47735                       0.0                       0.0   \n",
       "47736                       0.0                       0.0   \n",
       "47737                       0.0                       0.0   \n",
       "47738                       0.0                       0.0   \n",
       "\n",
       "      onehotencoder__rAddress_1 onehotencoder__rAddress_2  ...  \\\n",
       "0                           0.0                       0.0  ...   \n",
       "1                           1.0                       0.0  ...   \n",
       "2                           1.0                       0.0  ...   \n",
       "3                           0.0                       1.0  ...   \n",
       "4                           0.0                       1.0  ...   \n",
       "...                         ...                       ...  ...   \n",
       "47734                       0.0                       1.0  ...   \n",
       "47735                       0.0                       1.0  ...   \n",
       "47736                       0.0                       0.0  ...   \n",
       "47737                       0.0                       0.0  ...   \n",
       "47738                       0.0                       0.0  ...   \n",
       "\n",
       "      remainder__sAckDelayMax remainder__rAckDelayMax remainder__sAckDelayMin  \\\n",
       "0                       0.198                     0.2                     0.0   \n",
       "1                       0.195                   0.001                     0.0   \n",
       "2                        0.19                   0.001                     0.0   \n",
       "3                       0.001                   0.491                     0.0   \n",
       "4                         0.0                   0.496                     0.0   \n",
       "...                       ...                     ...                     ...   \n",
       "47734                   0.001                   0.042                     0.0   \n",
       "47735                     0.0                   0.041                     0.0   \n",
       "47736                   0.018                   0.015                   0.001   \n",
       "47737                     0.0                   0.002                     0.0   \n",
       "47738                   0.014                   0.058                   0.001   \n",
       "\n",
       "      remainder__rAckDelayMin remainder__sAckDelayAvg remainder__rAckDelayAvg  \\\n",
       "0                         0.0                0.020279                0.028912   \n",
       "1                         0.0                0.020338                0.000455   \n",
       "2                         0.0                0.015988                0.000537   \n",
       "3                         0.0                0.000578                 0.04882   \n",
       "4                         0.0                0.000423                0.077478   \n",
       "...                       ...                     ...                     ...   \n",
       "47734                     0.0                0.000525                0.005118   \n",
       "47735                   0.001                0.000436                 0.01411   \n",
       "47736                     0.0                0.004494                0.001453   \n",
       "47737                     0.0                0.000493                0.001058   \n",
       "47738                     0.0                0.004121                0.005323   \n",
       "\n",
       "      remainder__IT_B_Label remainder__IT_M_Label remainder__NST_B_Label  \\\n",
       "0                         0                     0                      0   \n",
       "1                         0                     0                      0   \n",
       "2                         0                     0                      0   \n",
       "3                         0                     0                      0   \n",
       "4                         0                     0                      0   \n",
       "...                     ...                   ...                    ...   \n",
       "47734                     0                     0                      0   \n",
       "47735                     0                     0                      0   \n",
       "47736                     1                     1                      1   \n",
       "47737                     1                     1                      1   \n",
       "47738                     1                     1                      1   \n",
       "\n",
       "      remainder__NST_M_Label  \n",
       "0                          0  \n",
       "1                          0  \n",
       "2                          0  \n",
       "3                          0  \n",
       "4                          0  \n",
       "...                      ...  \n",
       "47734                      0  \n",
       "47735                      0  \n",
       "47736                      1  \n",
       "47737                      1  \n",
       "47738                      1  \n",
       "\n",
       "[47739 rows x 88 columns]"
      ]
     },
     "execution_count": 23,
     "metadata": {},
     "output_type": "execute_result"
    }
   ],
   "source": [
    "from sklearn.compose import make_column_transformer\n",
    "from sklearn.preprocessing import OneHotEncoder\n",
    "\n",
    "colunas_categoricas = ['sAddress', 'rAddress', 'rIPs', 'sIPs', 'sMACs', 'rMACs', 'protocol']\n",
    "\n",
    "one_hot_enc = make_column_transformer(\n",
    "    (OneHotEncoder(handle_unknown = 'ignore'),\n",
    "    colunas_categoricas),\n",
    "    remainder='passthrough')\n",
    "\n",
    "dados = one_hot_enc.fit_transform(data_bottom)\n",
    "dados = pd.DataFrame(dados, columns=one_hot_enc.get_feature_names_out())\n",
    "dados = dados.drop(['remainder__startDate', 'remainder__endDate'], axis=1)\n",
    "dados"
   ]
  },
  {
   "cell_type": "code",
   "execution_count": 24,
   "metadata": {},
   "outputs": [
    {
     "name": "stdout",
     "output_type": "stream",
     "text": [
      "onehotencoder__sAddress_0\n",
      "onehotencoder__sAddress_1\n",
      "onehotencoder__sAddress_2\n",
      "onehotencoder__sAddress_3\n",
      "onehotencoder__sAddress_4\n",
      "onehotencoder__sAddress_5\n",
      "onehotencoder__sAddress_6\n",
      "onehotencoder__rAddress_0\n",
      "onehotencoder__rAddress_1\n",
      "onehotencoder__rAddress_2\n",
      "onehotencoder__rAddress_3\n",
      "onehotencoder__rIPs_0\n",
      "onehotencoder__rIPs_1\n",
      "onehotencoder__rIPs_2\n",
      "onehotencoder__rIPs_3\n",
      "onehotencoder__sIPs_0\n",
      "onehotencoder__sIPs_1\n",
      "onehotencoder__sIPs_2\n",
      "onehotencoder__sIPs_3\n",
      "onehotencoder__sIPs_4\n",
      "onehotencoder__sIPs_5\n",
      "onehotencoder__sIPs_6\n",
      "onehotencoder__sMACs_0\n",
      "onehotencoder__sMACs_1\n",
      "onehotencoder__sMACs_2\n",
      "onehotencoder__rMACs_0\n",
      "onehotencoder__rMACs_1\n",
      "onehotencoder__rMACs_2\n",
      "onehotencoder__rMACs_3\n",
      "onehotencoder__rMACs_4\n",
      "onehotencoder__rMACs_5\n",
      "onehotencoder__rMACs_6\n",
      "onehotencoder__protocol_0\n",
      "remainder__start\n",
      "remainder__end\n",
      "remainder__startOffset\n",
      "remainder__endOffset\n",
      "remainder__duration\n",
      "remainder__sPackets\n",
      "remainder__rPackets\n",
      "remainder__sBytesSum\n",
      "remainder__rBytesSum\n",
      "remainder__sBytesMax\n",
      "remainder__rBytesMax\n",
      "remainder__sBytesMin\n",
      "remainder__rBytesMin\n",
      "remainder__sBytesAvg\n",
      "remainder__rBytesAvg\n",
      "remainder__sLoad\n",
      "remainder__rLoad\n",
      "remainder__sPayloadSum\n",
      "remainder__rPayloadSum\n",
      "remainder__sPayloadMax\n",
      "remainder__rPayloadMax\n",
      "remainder__sPayloadMin\n",
      "remainder__rPayloadMin\n",
      "remainder__sPayloadAvg\n",
      "remainder__rPayloadAvg\n",
      "remainder__sInterPacketAvg\n",
      "remainder__rInterPacketAvg\n",
      "remainder__sttl\n",
      "remainder__rttl\n",
      "remainder__sAckRate\n",
      "remainder__rAckRate\n",
      "remainder__sUrgRate\n",
      "remainder__rUrgRate\n",
      "remainder__sFinRate\n",
      "remainder__rFinRate\n",
      "remainder__sPshRate\n",
      "remainder__rPshRate\n",
      "remainder__sSynRate\n",
      "remainder__rSynRate\n",
      "remainder__sRstRate\n",
      "remainder__rRstRate\n",
      "remainder__sWinTCP\n",
      "remainder__rWinTCP\n",
      "remainder__sFragmentRate\n",
      "remainder__rFragmentRate\n",
      "remainder__sAckDelayMax\n",
      "remainder__rAckDelayMax\n",
      "remainder__sAckDelayMin\n",
      "remainder__rAckDelayMin\n",
      "remainder__sAckDelayAvg\n",
      "remainder__rAckDelayAvg\n",
      "remainder__IT_B_Label\n",
      "remainder__IT_M_Label\n",
      "remainder__NST_B_Label\n",
      "remainder__NST_M_Label\n"
     ]
    }
   ],
   "source": [
    "for column in dados.columns:\n",
    "    print(column)"
   ]
  },
  {
   "cell_type": "markdown",
   "metadata": {},
   "source": [
    "**IMPORTAÇÃO DE BIBLIOTECAS E PRÉ-PROCESSAMENTO DOS DADOS**"
   ]
  },
  {
   "cell_type": "code",
   "execution_count": 25,
   "metadata": {},
   "outputs": [
    {
     "name": "stdout",
     "output_type": "stream",
     "text": [
      "Epoch 1/5\n"
     ]
    },
    {
     "name": "stderr",
     "output_type": "stream",
     "text": [
      "/home/joaobatista/.local/lib/python3.10/site-packages/tensorflow/python/util/dispatch.py:1176: SyntaxWarning: In loss categorical_crossentropy, expected y_pred.shape to be (batch_size, num_classes) with num_classes > 1. Received: y_pred.shape=(None, 1). Consider using 'binary_crossentropy' if you only have 2 classes.\n",
      "  return dispatch_target(*args, **kwargs)\n"
     ]
    },
    {
     "name": "stdout",
     "output_type": "stream",
     "text": [
      "538/538 [==============================] - 6s 5ms/step - loss: 0.0000e+00 - accuracy: 0.6248 - val_loss: 0.0000e+00 - val_accuracy: 0.6419\n",
      "Epoch 2/5\n",
      "538/538 [==============================] - 2s 5ms/step - loss: nan - accuracy: 0.4812 - val_loss: nan - val_accuracy: 0.3581\n",
      "Epoch 3/5\n",
      "538/538 [==============================] - 3s 5ms/step - loss: nan - accuracy: 0.3752 - val_loss: nan - val_accuracy: 0.3581\n",
      "Epoch 4/5\n",
      "538/538 [==============================] - 2s 4ms/step - loss: nan - accuracy: 0.3752 - val_loss: nan - val_accuracy: 0.3581\n",
      "Epoch 5/5\n",
      "538/538 [==============================] - 3s 5ms/step - loss: nan - accuracy: 0.3752 - val_loss: nan - val_accuracy: 0.3581\n",
      "299/299 [==============================] - 1s 4ms/step - loss: nan - accuracy: 0.3665\n"
     ]
    }
   ],
   "source": [
    "from keras.models import Sequential\n",
    "from keras.layers import Dense, Dropout\n",
    "from keras.optimizers import SGD\n",
    "from sklearn.model_selection import train_test_split\n",
    "from sklearn.preprocessing import StandardScaler\n",
    "\n",
    "target = \"remainder__IT_B_Label\"\n",
    "\n",
    "# Extrair features e rótulos do DataFrame\n",
    "X = dados.drop(target, axis=1).values\n",
    "y = dados[target].values\n",
    "\n",
    "X = X.astype('float32')\n",
    "y = y.astype('float32')\n",
    "\n",
    "# Dividir os dados em conjuntos de treino e teste\n",
    "X_train, X_test, y_train, y_test = train_test_split(X, y, test_size=0.2, random_state=42)\n",
    "\n",
    "# Normalizar os dados (opcional, dependendo da natureza dos seus dados)\n",
    "scaler = StandardScaler()\n",
    "X_train = scaler.fit_transform(X_train)\n",
    "X_test = scaler.transform(X_test)\n",
    "\n",
    "# Definir o modelo\n",
    "model = Sequential()\n",
    "model.add(Dense(100, activation='relu', input_shape=(87,)))\n",
    "model.add(Dropout(0.5))\n",
    "model.add(Dense(1, activation='softmax'))  # Linear activation para tarefa de regressão\n",
    "\n",
    "# Compilar o modelo\n",
    "opt = SGD(learning_rate=0.01, momentum=0.9)\n",
    "model.compile(optimizer=opt, loss='categorical_crossentropy', metrics=['accuracy'])\n",
    "\n",
    "# Treinar o modelo\n",
    "model.fit(X_train, y_train, epochs=5, batch_size=64, validation_split=0.1)\n",
    "\n",
    "# Avaliar o modelo no conjunto de teste\n",
    "test_loss, test_acc = model.evaluate(X_test, y_test)\n"
   ]
  },
  {
   "cell_type": "code",
   "execution_count": 26,
   "metadata": {},
   "outputs": [],
   "source": [
    "import os\n",
    "# Make TensorFlow logs less verbose\n",
    "os.environ[\"TF_CPP_MIN_LOG_LEVEL\"] = \"3\"\n",
    "import flwr as fl\n",
    "import tensorflow as tf\n",
    "from tensorflow.keras.models import Sequential\n",
    "from tensorflow.keras.layers import Conv2D, MaxPool2D,Flatten,Dense\n",
    "from tensorflow.keras.optimizers import SGD\n",
    "import numpy as np\n",
    "import ray\n",
    "from matplotlib import pyplot as plt"
   ]
  },
  {
   "cell_type": "code",
   "execution_count": 65,
   "metadata": {},
   "outputs": [],
   "source": [
    "def define_model(input_shape,num_classes):\n",
    "  model = Sequential()\n",
    "  model.add(Dense(100, activation='relu', input_shape=input_shape))\n",
    "  model.add(Dropout(0.5))\n",
    "  model.add(Dense(num_classes, activation='relu'))  # Linear activation para tarefa de regressão\n",
    "  model.add(Flatten())\n",
    "  # compile model\n",
    "  opt = SGD(learning_rate=0.01, momentum=0.9)\n",
    "  model.compile(optimizer=opt, loss='binary_crossentropy', metrics=['accuracy'])\n",
    "  return model"
   ]
  },
  {
   "cell_type": "code",
   "execution_count": 66,
   "metadata": {},
   "outputs": [],
   "source": [
    "input_shape = (87,)\n",
    "num_classes = 2\n",
    "\n",
    "model = define_model(input_shape,num_classes)"
   ]
  },
  {
   "cell_type": "code",
   "execution_count": 67,
   "metadata": {},
   "outputs": [],
   "source": [
    "X = dados.drop(target, axis=1).values\n",
    "y = dados[target].values\n",
    "\n",
    "X = X.astype('float32')\n",
    "y = y.astype('float32')\n",
    "\n",
    "X_train, X_test, y_train, y_test = train_test_split(X, y, test_size=0.2, random_state=42)"
   ]
  },
  {
   "cell_type": "code",
   "execution_count": 68,
   "metadata": {},
   "outputs": [
    {
     "name": "stdout",
     "output_type": "stream",
     "text": [
      "Epoch 1/5\n",
      "538/538 [==============================] - 4s 6ms/step - loss: 7.7965 - accuracy: 0.5803 - val_loss: 7.6810 - val_accuracy: 0.6419\n",
      "Epoch 2/5\n",
      "538/538 [==============================] - 2s 3ms/step - loss: 7.8036 - accuracy: 0.5829 - val_loss: 7.6810 - val_accuracy: 0.6419\n",
      "Epoch 3/5\n",
      "538/538 [==============================] - 3s 6ms/step - loss: 7.8295 - accuracy: 0.5774 - val_loss: 7.6810 - val_accuracy: 0.6419\n",
      "Epoch 4/5\n",
      "538/538 [==============================] - 3s 6ms/step - loss: 7.8565 - accuracy: 0.5764 - val_loss: 7.6810 - val_accuracy: 0.6419\n",
      "Epoch 5/5\n",
      "538/538 [==============================] - 3s 5ms/step - loss: 7.8314 - accuracy: 0.5773 - val_loss: 7.6810 - val_accuracy: 0.6419\n"
     ]
    }
   ],
   "source": [
    "batch_size = 64\n",
    "epochs = 5\n",
    "history = model.fit(X_train, y_train,\n",
    "                    batch_size=batch_size,\n",
    "                    epochs=epochs,\n",
    "                    validation_split=0.1)"
   ]
  }
 ],
 "metadata": {
  "kernelspec": {
   "display_name": "Python 3",
   "language": "python",
   "name": "python3"
  },
  "language_info": {
   "codemirror_mode": {
    "name": "ipython",
    "version": 3
   },
   "file_extension": ".py",
   "mimetype": "text/x-python",
   "name": "python",
   "nbconvert_exporter": "python",
   "pygments_lexer": "ipython3",
   "version": "3.10.6"
  }
 },
 "nbformat": 4,
 "nbformat_minor": 2
}

{
 "cells": [
  {
   "cell_type": "markdown",
   "metadata": {},
   "source": [
    "**LEITURA DOS DADOS DO CSV DATA_BOTTOM**"
   ]
  },
  {
   "cell_type": "code",
   "execution_count": 18,
   "metadata": {},
   "outputs": [
    {
     "data": {
      "text/html": [
       "<div>\n",
       "<style scoped>\n",
       "    .dataframe tbody tr th:only-of-type {\n",
       "        vertical-align: middle;\n",
       "    }\n",
       "\n",
       "    .dataframe tbody tr th {\n",
       "        vertical-align: top;\n",
       "    }\n",
       "\n",
       "    .dataframe thead th {\n",
       "        text-align: right;\n",
       "    }\n",
       "</style>\n",
       "<table border=\"1\" class=\"dataframe\">\n",
       "  <thead>\n",
       "    <tr style=\"text-align: right;\">\n",
       "      <th></th>\n",
       "      <th>sAddress</th>\n",
       "      <th>rAddress</th>\n",
       "      <th>sMACs</th>\n",
       "      <th>rMACs</th>\n",
       "      <th>sIPs</th>\n",
       "      <th>rIPs</th>\n",
       "      <th>protocol</th>\n",
       "      <th>startDate</th>\n",
       "      <th>endDate</th>\n",
       "      <th>start</th>\n",
       "      <th>...</th>\n",
       "      <th>sAckDelayMax</th>\n",
       "      <th>rAckDelayMax</th>\n",
       "      <th>sAckDelayMin</th>\n",
       "      <th>rAckDelayMin</th>\n",
       "      <th>sAckDelayAvg</th>\n",
       "      <th>rAckDelayAvg</th>\n",
       "      <th>IT_B_Label</th>\n",
       "      <th>IT_M_Label</th>\n",
       "      <th>NST_B_Label</th>\n",
       "      <th>NST_M_Label</th>\n",
       "    </tr>\n",
       "  </thead>\n",
       "  <tbody>\n",
       "    <tr>\n",
       "      <th>0</th>\n",
       "      <td>198.18.134.11</td>\n",
       "      <td>198.18.134.12</td>\n",
       "      <td>b8:27:eb:6d:4f:4b</td>\n",
       "      <td>b8:27:eb:5b:50:19</td>\n",
       "      <td>198.18.134.11</td>\n",
       "      <td>198.18.134.12</td>\n",
       "      <td>IPV4-TCP</td>\n",
       "      <td>2023-03-10 10:29:34.085540</td>\n",
       "      <td>2023-03-10 10:29:34.565764</td>\n",
       "      <td>1.678441e+09</td>\n",
       "      <td>...</td>\n",
       "      <td>0.198</td>\n",
       "      <td>0.200</td>\n",
       "      <td>0.0</td>\n",
       "      <td>0.0</td>\n",
       "      <td>0.020279</td>\n",
       "      <td>0.028912</td>\n",
       "      <td>0</td>\n",
       "      <td>Normal</td>\n",
       "      <td>0</td>\n",
       "      <td>Normal</td>\n",
       "    </tr>\n",
       "    <tr>\n",
       "      <th>1</th>\n",
       "      <td>198.18.134.12</td>\n",
       "      <td>198.18.134.31</td>\n",
       "      <td>b8:27:eb:5b:50:19</td>\n",
       "      <td>b8:27:eb:3e:5d:96</td>\n",
       "      <td>198.18.134.12</td>\n",
       "      <td>198.18.134.31</td>\n",
       "      <td>IPV4-TCP</td>\n",
       "      <td>2023-03-10 10:29:34.090079</td>\n",
       "      <td>2023-03-10 10:29:34.500119</td>\n",
       "      <td>1.678441e+09</td>\n",
       "      <td>...</td>\n",
       "      <td>0.195</td>\n",
       "      <td>0.001</td>\n",
       "      <td>0.0</td>\n",
       "      <td>0.0</td>\n",
       "      <td>0.020338</td>\n",
       "      <td>0.000455</td>\n",
       "      <td>0</td>\n",
       "      <td>Normal</td>\n",
       "      <td>0</td>\n",
       "      <td>Normal</td>\n",
       "    </tr>\n",
       "    <tr>\n",
       "      <th>2</th>\n",
       "      <td>198.18.134.11</td>\n",
       "      <td>198.18.134.31</td>\n",
       "      <td>b8:27:eb:6d:4f:4b</td>\n",
       "      <td>b8:27:eb:3e:5d:96</td>\n",
       "      <td>198.18.134.11</td>\n",
       "      <td>198.18.134.31</td>\n",
       "      <td>IPV4-TCP</td>\n",
       "      <td>2023-03-10 10:29:34.160288</td>\n",
       "      <td>2023-03-10 10:29:34.623275</td>\n",
       "      <td>1.678441e+09</td>\n",
       "      <td>...</td>\n",
       "      <td>0.190</td>\n",
       "      <td>0.001</td>\n",
       "      <td>0.0</td>\n",
       "      <td>0.0</td>\n",
       "      <td>0.015988</td>\n",
       "      <td>0.000537</td>\n",
       "      <td>0</td>\n",
       "      <td>Normal</td>\n",
       "      <td>0</td>\n",
       "      <td>Normal</td>\n",
       "    </tr>\n",
       "    <tr>\n",
       "      <th>3</th>\n",
       "      <td>198.18.134.11</td>\n",
       "      <td>198.18.134.15</td>\n",
       "      <td>b8:27:eb:6d:4f:4b</td>\n",
       "      <td>b8:27:eb:15:88:9c</td>\n",
       "      <td>198.18.134.11</td>\n",
       "      <td>198.18.134.15</td>\n",
       "      <td>IPV4-TCP</td>\n",
       "      <td>2023-03-10 10:29:34.416492</td>\n",
       "      <td>2023-03-10 10:29:34.916407</td>\n",
       "      <td>1.678441e+09</td>\n",
       "      <td>...</td>\n",
       "      <td>0.001</td>\n",
       "      <td>0.491</td>\n",
       "      <td>0.0</td>\n",
       "      <td>0.0</td>\n",
       "      <td>0.000578</td>\n",
       "      <td>0.048820</td>\n",
       "      <td>0</td>\n",
       "      <td>Normal</td>\n",
       "      <td>0</td>\n",
       "      <td>Normal</td>\n",
       "    </tr>\n",
       "    <tr>\n",
       "      <th>4</th>\n",
       "      <td>198.18.134.12</td>\n",
       "      <td>198.18.134.15</td>\n",
       "      <td>b8:27:eb:5b:50:19</td>\n",
       "      <td>b8:27:eb:15:88:9c</td>\n",
       "      <td>198.18.134.12</td>\n",
       "      <td>198.18.134.15</td>\n",
       "      <td>IPV4-TCP</td>\n",
       "      <td>2023-03-10 10:29:34.425676</td>\n",
       "      <td>2023-03-10 10:29:34.925551</td>\n",
       "      <td>1.678441e+09</td>\n",
       "      <td>...</td>\n",
       "      <td>0.000</td>\n",
       "      <td>0.496</td>\n",
       "      <td>0.0</td>\n",
       "      <td>0.0</td>\n",
       "      <td>0.000423</td>\n",
       "      <td>0.077478</td>\n",
       "      <td>0</td>\n",
       "      <td>Normal</td>\n",
       "      <td>0</td>\n",
       "      <td>Normal</td>\n",
       "    </tr>\n",
       "  </tbody>\n",
       "</table>\n",
       "<p>5 rows × 64 columns</p>\n",
       "</div>"
      ],
      "text/plain": [
       "        sAddress       rAddress              sMACs              rMACs   \n",
       "0  198.18.134.11  198.18.134.12  b8:27:eb:6d:4f:4b  b8:27:eb:5b:50:19  \\\n",
       "1  198.18.134.12  198.18.134.31  b8:27:eb:5b:50:19  b8:27:eb:3e:5d:96   \n",
       "2  198.18.134.11  198.18.134.31  b8:27:eb:6d:4f:4b  b8:27:eb:3e:5d:96   \n",
       "3  198.18.134.11  198.18.134.15  b8:27:eb:6d:4f:4b  b8:27:eb:15:88:9c   \n",
       "4  198.18.134.12  198.18.134.15  b8:27:eb:5b:50:19  b8:27:eb:15:88:9c   \n",
       "\n",
       "            sIPs           rIPs  protocol                   startDate   \n",
       "0  198.18.134.11  198.18.134.12  IPV4-TCP  2023-03-10 10:29:34.085540  \\\n",
       "1  198.18.134.12  198.18.134.31  IPV4-TCP  2023-03-10 10:29:34.090079   \n",
       "2  198.18.134.11  198.18.134.31  IPV4-TCP  2023-03-10 10:29:34.160288   \n",
       "3  198.18.134.11  198.18.134.15  IPV4-TCP  2023-03-10 10:29:34.416492   \n",
       "4  198.18.134.12  198.18.134.15  IPV4-TCP  2023-03-10 10:29:34.425676   \n",
       "\n",
       "                      endDate         start  ...  sAckDelayMax  rAckDelayMax   \n",
       "0  2023-03-10 10:29:34.565764  1.678441e+09  ...         0.198         0.200  \\\n",
       "1  2023-03-10 10:29:34.500119  1.678441e+09  ...         0.195         0.001   \n",
       "2  2023-03-10 10:29:34.623275  1.678441e+09  ...         0.190         0.001   \n",
       "3  2023-03-10 10:29:34.916407  1.678441e+09  ...         0.001         0.491   \n",
       "4  2023-03-10 10:29:34.925551  1.678441e+09  ...         0.000         0.496   \n",
       "\n",
       "   sAckDelayMin  rAckDelayMin  sAckDelayAvg  rAckDelayAvg  IT_B_Label   \n",
       "0           0.0           0.0      0.020279      0.028912           0  \\\n",
       "1           0.0           0.0      0.020338      0.000455           0   \n",
       "2           0.0           0.0      0.015988      0.000537           0   \n",
       "3           0.0           0.0      0.000578      0.048820           0   \n",
       "4           0.0           0.0      0.000423      0.077478           0   \n",
       "\n",
       "   IT_M_Label  NST_B_Label  NST_M_Label  \n",
       "0      Normal            0       Normal  \n",
       "1      Normal            0       Normal  \n",
       "2      Normal            0       Normal  \n",
       "3      Normal            0       Normal  \n",
       "4      Normal            0       Normal  \n",
       "\n",
       "[5 rows x 64 columns]"
      ]
     },
     "execution_count": 18,
     "metadata": {},
     "output_type": "execute_result"
    }
   ],
   "source": [
    "import pandas as pd\n",
    "\n",
    "data_bottom = pd.read_csv(\"./network-traffic-dataset/data/extended/flows/output_bottom/output_bottom.csv\", sep=\",\")\n",
    "\n",
    "data_bottom.head()"
   ]
  },
  {
   "cell_type": "code",
   "execution_count": 19,
   "metadata": {},
   "outputs": [
    {
     "data": {
      "text/plain": [
       "(55425, 64)"
      ]
     },
     "execution_count": 19,
     "metadata": {},
     "output_type": "execute_result"
    }
   ],
   "source": [
    "data_bottom.shape"
   ]
  },
  {
   "cell_type": "markdown",
   "metadata": {},
   "source": [
    "**LIMPEZA DO DATASET - REMOÇÃO DE COLUNAS NULAS**"
   ]
  },
  {
   "cell_type": "code",
   "execution_count": 20,
   "metadata": {},
   "outputs": [
    {
     "data": {
      "text/plain": [
       "sAddress          34\n",
       "rAddress          18\n",
       "sMACs             20\n",
       "rMACs             16\n",
       "sIPs              21\n",
       "                ... \n",
       "rAckDelayAvg    8751\n",
       "IT_B_Label         2\n",
       "IT_M_Label         8\n",
       "NST_B_Label        2\n",
       "NST_M_Label        8\n",
       "Length: 64, dtype: int64"
      ]
     },
     "execution_count": 20,
     "metadata": {},
     "output_type": "execute_result"
    }
   ],
   "source": [
    "data_bottom.nunique()"
   ]
  },
  {
   "cell_type": "code",
   "execution_count": 21,
   "metadata": {},
   "outputs": [
    {
     "data": {
      "text/plain": [
       "sAddress           0\n",
       "rAddress           0\n",
       "sMACs              0\n",
       "rMACs              0\n",
       "sIPs            3855\n",
       "                ... \n",
       "rAckDelayAvg    7511\n",
       "IT_B_Label         0\n",
       "IT_M_Label         0\n",
       "NST_B_Label        0\n",
       "NST_M_Label        0\n",
       "Length: 64, dtype: int64"
      ]
     },
     "execution_count": 21,
     "metadata": {},
     "output_type": "execute_result"
    }
   ],
   "source": [
    "data_bottom.isnull().sum()"
   ]
  },
  {
   "cell_type": "code",
   "execution_count": 22,
   "metadata": {},
   "outputs": [],
   "source": [
    "data_bottom = data_bottom.dropna(subset=[\"rAckDelayAvg\", \"sInterPacketAvg\", \"sIPs\", \"rInterPacketAvg\", \"sAckDelayMax\", \"sAckDelayMin\", \"sAckDelayAvg\"])"
   ]
  },
  {
   "cell_type": "code",
   "execution_count": 23,
   "metadata": {},
   "outputs": [
    {
     "data": {
      "text/plain": [
       "sAddress  rAddress  sMACs  rMACs  sIPs   rIPs   protocol  startDate  endDate  start  end    startOffset  endOffset  duration  sPackets  rPackets  sBytesSum  rBytesSum  sBytesMax  rBytesMax  sBytesMin  rBytesMin  sBytesAvg  rBytesAvg  sLoad  rLoad  sPayloadSum  rPayloadSum  sPayloadMax  rPayloadMax  sPayloadMin  rPayloadMin  sPayloadAvg  rPayloadAvg  sInterPacketAvg  rInterPacketAvg  sttl   rttl   sAckRate  rAckRate  sUrgRate  rUrgRate  sFinRate  rFinRate  sPshRate  rPshRate  sSynRate  rSynRate  sRstRate  rRstRate  sWinTCP  rWinTCP  sFragmentRate  rFragmentRate  sAckDelayMax  rAckDelayMax  sAckDelayMin  rAckDelayMin  sAckDelayAvg  rAckDelayAvg  IT_B_Label  IT_M_Label  NST_B_Label  NST_M_Label\n",
       "False     False     False  False  False  False  False     False      False    False  False  False        False      False     False     False     False      False      False      False      False      False      False      False      False  False  False        False        False        False        False        False        False        False        False            False            False  False  False     False     False     False     False     False     False     False     False     False     False     False     False    False    False          False          False         False         False         False         False         False         False       False       False        False          47739\n",
       "Name: count, dtype: int64"
      ]
     },
     "execution_count": 23,
     "metadata": {},
     "output_type": "execute_result"
    }
   ],
   "source": [
    "data_bottom.isnull().value_counts()"
   ]
  },
  {
   "cell_type": "markdown",
   "metadata": {},
   "source": [
    "**CONVERSÃO DE FEATURES SIMBÓLICAS PARA FEATURES NUMÉRICAS**"
   ]
  },
  {
   "cell_type": "code",
   "execution_count": 24,
   "metadata": {},
   "outputs": [
    {
     "data": {
      "text/plain": [
       "array([0, 1, 2, 3, 4, 5, 6])"
      ]
     },
     "execution_count": 24,
     "metadata": {},
     "output_type": "execute_result"
    }
   ],
   "source": [
    "data_bottom[\"sAddress\"].replace([\"198.18.134.11\", \"198.18.134.12\", \"198.18.134.6\", \"198.18.134.38\", \"198.18.134.40\", \"198.18.134.47\", \"198.18.134.49\"], [0, 1, 2, 3, 4, 5, 6], inplace=True)\n",
    "data_bottom[\"sAddress\"].unique()"
   ]
  },
  {
   "cell_type": "code",
   "execution_count": 25,
   "metadata": {},
   "outputs": [
    {
     "data": {
      "text/plain": [
       "array([0, 1, 2, 3])"
      ]
     },
     "execution_count": 25,
     "metadata": {},
     "output_type": "execute_result"
    }
   ],
   "source": [
    "data_bottom[\"rAddress\"].replace(['198.18.134.12', '198.18.134.31', '198.18.134.15', '198.18.134.99'], [0, 1, 2, 3], inplace=True)\n",
    "data_bottom[\"rAddress\"].unique()"
   ]
  },
  {
   "cell_type": "code",
   "execution_count": 26,
   "metadata": {},
   "outputs": [
    {
     "data": {
      "text/plain": [
       "array([0, 1, 2])"
      ]
     },
     "execution_count": 26,
     "metadata": {},
     "output_type": "execute_result"
    }
   ],
   "source": [
    "data_bottom[\"sMACs\"].replace(['b8:27:eb:6d:4f:4b', 'b8:27:eb:5b:50:19', '00:07:7c:8c:43:63'], [0, 1, 2], inplace=True)\n",
    "data_bottom[\"sMACs\"].unique()"
   ]
  },
  {
   "cell_type": "code",
   "execution_count": 27,
   "metadata": {},
   "outputs": [
    {
     "data": {
      "text/plain": [
       "array([0, 1, 2, 3, 4, 5, 6])"
      ]
     },
     "execution_count": 27,
     "metadata": {},
     "output_type": "execute_result"
    }
   ],
   "source": [
    "data_bottom[\"rMACs\"].replace(['b8:27:eb:5b:50:19', 'b8:27:eb:3e:5d:96', 'b8:27:eb:15:88:9c',\n",
    "       'b8:27:eb:d1:b7:ef', 'b8:27:eb:d1:b7:ef/b8:27:eb:15:88:9c',\n",
    "       '00:07:7c:88:6e:83/00:24:9b:6d:b8:89', '00:24:9b:6d:b8:89'], [0, 1, 2, 3, 4, 5, 6], inplace=True)\n",
    "data_bottom[\"rMACs\"].unique()"
   ]
  },
  {
   "cell_type": "code",
   "execution_count": 28,
   "metadata": {},
   "outputs": [
    {
     "data": {
      "text/plain": [
       "array([0, 1, 2, 3, 4, 5, 6])"
      ]
     },
     "execution_count": 28,
     "metadata": {},
     "output_type": "execute_result"
    }
   ],
   "source": [
    "data_bottom[\"sIPs\"].replace(['198.18.134.11', '198.18.134.12', '198.18.134.6', '198.18.134.38',\n",
    "       '198.18.134.40', '198.18.134.47', '198.18.134.49'], [0, 1, 2, 3, 4, 5, 6], inplace=True)\n",
    "data_bottom[\"sIPs\"].unique()"
   ]
  },
  {
   "cell_type": "code",
   "execution_count": 29,
   "metadata": {},
   "outputs": [
    {
     "data": {
      "text/plain": [
       "array([0, 1, 2, 3])"
      ]
     },
     "execution_count": 29,
     "metadata": {},
     "output_type": "execute_result"
    }
   ],
   "source": [
    "data_bottom[\"rIPs\"].replace(['198.18.134.12', '198.18.134.31', '198.18.134.15', '198.18.134.99'], [0, 1, 2, 3], inplace=True)\n",
    "data_bottom[\"rIPs\"].unique()"
   ]
  },
  {
   "cell_type": "code",
   "execution_count": 30,
   "metadata": {},
   "outputs": [
    {
     "data": {
      "text/plain": [
       "array([0])"
      ]
     },
     "execution_count": 30,
     "metadata": {},
     "output_type": "execute_result"
    }
   ],
   "source": [
    "data_bottom[\"protocol\"].replace(['IPV4-TCP'], [0], inplace=True)\n",
    "data_bottom[\"protocol\"].unique()"
   ]
  },
  {
   "cell_type": "code",
   "execution_count": 31,
   "metadata": {},
   "outputs": [
    {
     "data": {
      "text/plain": [
       "array([0, 1, 2, 3, 4, 5, 6, 7])"
      ]
     },
     "execution_count": 31,
     "metadata": {},
     "output_type": "execute_result"
    }
   ],
   "source": [
    "data_bottom[\"IT_M_Label\"].replace(['Normal', 'BAD-MITM', 'BAD-MISCONF-DUPLICATION', 'BAD-SSH',\n",
    "       'GOOD-SSH', 'BAD-PORTSCAN1', 'BAD-MISCONF', 'BAD-PORTSCAN2'], [0, 1, 2, 3, 4, 5, 6, 7], inplace=True)\n",
    "data_bottom[\"IT_M_Label\"].unique()"
   ]
  },
  {
   "cell_type": "code",
   "execution_count": 32,
   "metadata": {},
   "outputs": [
    {
     "data": {
      "text/plain": [
       "array([0, 1, 2, 3, 4, 5])"
      ]
     },
     "execution_count": 32,
     "metadata": {},
     "output_type": "execute_result"
    }
   ],
   "source": [
    "data_bottom[\"NST_M_Label\"].replace(['Normal', 'BAD-MITM', 'BAD-MISCONF-DUPLICATION', 'BAD-SSH',\n",
    "       'BAD-MISCONF', 'GOOD-SSH'], [0, 1, 2, 3, 4, 5], inplace=True)\n",
    "data_bottom[\"NST_M_Label\"].unique()"
   ]
  },
  {
   "cell_type": "markdown",
   "metadata": {},
   "source": [
    "**UTILIZAÇÃO DE ONE HOT ENCODING PARA AS FEATURES SIMBÓLICAS**"
   ]
  },
  {
   "cell_type": "code",
   "execution_count": 33,
   "metadata": {},
   "outputs": [
    {
     "data": {
      "text/html": [
       "<div>\n",
       "<style scoped>\n",
       "    .dataframe tbody tr th:only-of-type {\n",
       "        vertical-align: middle;\n",
       "    }\n",
       "\n",
       "    .dataframe tbody tr th {\n",
       "        vertical-align: top;\n",
       "    }\n",
       "\n",
       "    .dataframe thead th {\n",
       "        text-align: right;\n",
       "    }\n",
       "</style>\n",
       "<table border=\"1\" class=\"dataframe\">\n",
       "  <thead>\n",
       "    <tr style=\"text-align: right;\">\n",
       "      <th></th>\n",
       "      <th>onehotencoder__sAddress_0</th>\n",
       "      <th>onehotencoder__sAddress_1</th>\n",
       "      <th>onehotencoder__sAddress_2</th>\n",
       "      <th>onehotencoder__sAddress_3</th>\n",
       "      <th>onehotencoder__sAddress_4</th>\n",
       "      <th>onehotencoder__sAddress_5</th>\n",
       "      <th>onehotencoder__sAddress_6</th>\n",
       "      <th>onehotencoder__rAddress_0</th>\n",
       "      <th>onehotencoder__rAddress_1</th>\n",
       "      <th>onehotencoder__rAddress_2</th>\n",
       "      <th>...</th>\n",
       "      <th>remainder__sFragmentRate</th>\n",
       "      <th>remainder__rFragmentRate</th>\n",
       "      <th>remainder__sAckDelayMax</th>\n",
       "      <th>remainder__rAckDelayMax</th>\n",
       "      <th>remainder__sAckDelayMin</th>\n",
       "      <th>remainder__rAckDelayMin</th>\n",
       "      <th>remainder__sAckDelayAvg</th>\n",
       "      <th>remainder__rAckDelayAvg</th>\n",
       "      <th>remainder__IT_B_Label</th>\n",
       "      <th>remainder__NST_B_Label</th>\n",
       "    </tr>\n",
       "  </thead>\n",
       "  <tbody>\n",
       "    <tr>\n",
       "      <th>0</th>\n",
       "      <td>1.0</td>\n",
       "      <td>0.0</td>\n",
       "      <td>0.0</td>\n",
       "      <td>0.0</td>\n",
       "      <td>0.0</td>\n",
       "      <td>0.0</td>\n",
       "      <td>0.0</td>\n",
       "      <td>1.0</td>\n",
       "      <td>0.0</td>\n",
       "      <td>0.0</td>\n",
       "      <td>...</td>\n",
       "      <td>0.0</td>\n",
       "      <td>0.0</td>\n",
       "      <td>0.198</td>\n",
       "      <td>0.2</td>\n",
       "      <td>0.0</td>\n",
       "      <td>0.0</td>\n",
       "      <td>0.020279</td>\n",
       "      <td>0.028912</td>\n",
       "      <td>0</td>\n",
       "      <td>0</td>\n",
       "    </tr>\n",
       "    <tr>\n",
       "      <th>1</th>\n",
       "      <td>0.0</td>\n",
       "      <td>1.0</td>\n",
       "      <td>0.0</td>\n",
       "      <td>0.0</td>\n",
       "      <td>0.0</td>\n",
       "      <td>0.0</td>\n",
       "      <td>0.0</td>\n",
       "      <td>0.0</td>\n",
       "      <td>1.0</td>\n",
       "      <td>0.0</td>\n",
       "      <td>...</td>\n",
       "      <td>0.0</td>\n",
       "      <td>0.0</td>\n",
       "      <td>0.195</td>\n",
       "      <td>0.001</td>\n",
       "      <td>0.0</td>\n",
       "      <td>0.0</td>\n",
       "      <td>0.020338</td>\n",
       "      <td>0.000455</td>\n",
       "      <td>0</td>\n",
       "      <td>0</td>\n",
       "    </tr>\n",
       "    <tr>\n",
       "      <th>2</th>\n",
       "      <td>1.0</td>\n",
       "      <td>0.0</td>\n",
       "      <td>0.0</td>\n",
       "      <td>0.0</td>\n",
       "      <td>0.0</td>\n",
       "      <td>0.0</td>\n",
       "      <td>0.0</td>\n",
       "      <td>0.0</td>\n",
       "      <td>1.0</td>\n",
       "      <td>0.0</td>\n",
       "      <td>...</td>\n",
       "      <td>0.0</td>\n",
       "      <td>0.0</td>\n",
       "      <td>0.19</td>\n",
       "      <td>0.001</td>\n",
       "      <td>0.0</td>\n",
       "      <td>0.0</td>\n",
       "      <td>0.015988</td>\n",
       "      <td>0.000537</td>\n",
       "      <td>0</td>\n",
       "      <td>0</td>\n",
       "    </tr>\n",
       "    <tr>\n",
       "      <th>3</th>\n",
       "      <td>1.0</td>\n",
       "      <td>0.0</td>\n",
       "      <td>0.0</td>\n",
       "      <td>0.0</td>\n",
       "      <td>0.0</td>\n",
       "      <td>0.0</td>\n",
       "      <td>0.0</td>\n",
       "      <td>0.0</td>\n",
       "      <td>0.0</td>\n",
       "      <td>1.0</td>\n",
       "      <td>...</td>\n",
       "      <td>0.0</td>\n",
       "      <td>0.0</td>\n",
       "      <td>0.001</td>\n",
       "      <td>0.491</td>\n",
       "      <td>0.0</td>\n",
       "      <td>0.0</td>\n",
       "      <td>0.000578</td>\n",
       "      <td>0.04882</td>\n",
       "      <td>0</td>\n",
       "      <td>0</td>\n",
       "    </tr>\n",
       "    <tr>\n",
       "      <th>4</th>\n",
       "      <td>0.0</td>\n",
       "      <td>1.0</td>\n",
       "      <td>0.0</td>\n",
       "      <td>0.0</td>\n",
       "      <td>0.0</td>\n",
       "      <td>0.0</td>\n",
       "      <td>0.0</td>\n",
       "      <td>0.0</td>\n",
       "      <td>0.0</td>\n",
       "      <td>1.0</td>\n",
       "      <td>...</td>\n",
       "      <td>0.0</td>\n",
       "      <td>0.0</td>\n",
       "      <td>0.0</td>\n",
       "      <td>0.496</td>\n",
       "      <td>0.0</td>\n",
       "      <td>0.0</td>\n",
       "      <td>0.000423</td>\n",
       "      <td>0.077478</td>\n",
       "      <td>0</td>\n",
       "      <td>0</td>\n",
       "    </tr>\n",
       "    <tr>\n",
       "      <th>...</th>\n",
       "      <td>...</td>\n",
       "      <td>...</td>\n",
       "      <td>...</td>\n",
       "      <td>...</td>\n",
       "      <td>...</td>\n",
       "      <td>...</td>\n",
       "      <td>...</td>\n",
       "      <td>...</td>\n",
       "      <td>...</td>\n",
       "      <td>...</td>\n",
       "      <td>...</td>\n",
       "      <td>...</td>\n",
       "      <td>...</td>\n",
       "      <td>...</td>\n",
       "      <td>...</td>\n",
       "      <td>...</td>\n",
       "      <td>...</td>\n",
       "      <td>...</td>\n",
       "      <td>...</td>\n",
       "      <td>...</td>\n",
       "      <td>...</td>\n",
       "    </tr>\n",
       "    <tr>\n",
       "      <th>47734</th>\n",
       "      <td>1.0</td>\n",
       "      <td>0.0</td>\n",
       "      <td>0.0</td>\n",
       "      <td>0.0</td>\n",
       "      <td>0.0</td>\n",
       "      <td>0.0</td>\n",
       "      <td>0.0</td>\n",
       "      <td>0.0</td>\n",
       "      <td>0.0</td>\n",
       "      <td>1.0</td>\n",
       "      <td>...</td>\n",
       "      <td>0.0</td>\n",
       "      <td>0.0</td>\n",
       "      <td>0.001</td>\n",
       "      <td>0.042</td>\n",
       "      <td>0.0</td>\n",
       "      <td>0.0</td>\n",
       "      <td>0.000525</td>\n",
       "      <td>0.005118</td>\n",
       "      <td>0</td>\n",
       "      <td>0</td>\n",
       "    </tr>\n",
       "    <tr>\n",
       "      <th>47735</th>\n",
       "      <td>0.0</td>\n",
       "      <td>1.0</td>\n",
       "      <td>0.0</td>\n",
       "      <td>0.0</td>\n",
       "      <td>0.0</td>\n",
       "      <td>0.0</td>\n",
       "      <td>0.0</td>\n",
       "      <td>0.0</td>\n",
       "      <td>0.0</td>\n",
       "      <td>1.0</td>\n",
       "      <td>...</td>\n",
       "      <td>0.0</td>\n",
       "      <td>0.0</td>\n",
       "      <td>0.0</td>\n",
       "      <td>0.041</td>\n",
       "      <td>0.0</td>\n",
       "      <td>0.001</td>\n",
       "      <td>0.000436</td>\n",
       "      <td>0.01411</td>\n",
       "      <td>0</td>\n",
       "      <td>0</td>\n",
       "    </tr>\n",
       "    <tr>\n",
       "      <th>47736</th>\n",
       "      <td>0.0</td>\n",
       "      <td>0.0</td>\n",
       "      <td>1.0</td>\n",
       "      <td>0.0</td>\n",
       "      <td>0.0</td>\n",
       "      <td>0.0</td>\n",
       "      <td>0.0</td>\n",
       "      <td>0.0</td>\n",
       "      <td>0.0</td>\n",
       "      <td>0.0</td>\n",
       "      <td>...</td>\n",
       "      <td>0.0</td>\n",
       "      <td>0.0</td>\n",
       "      <td>0.018</td>\n",
       "      <td>0.015</td>\n",
       "      <td>0.001</td>\n",
       "      <td>0.0</td>\n",
       "      <td>0.004494</td>\n",
       "      <td>0.001453</td>\n",
       "      <td>1</td>\n",
       "      <td>1</td>\n",
       "    </tr>\n",
       "    <tr>\n",
       "      <th>47737</th>\n",
       "      <td>0.0</td>\n",
       "      <td>0.0</td>\n",
       "      <td>0.0</td>\n",
       "      <td>1.0</td>\n",
       "      <td>0.0</td>\n",
       "      <td>0.0</td>\n",
       "      <td>0.0</td>\n",
       "      <td>0.0</td>\n",
       "      <td>0.0</td>\n",
       "      <td>0.0</td>\n",
       "      <td>...</td>\n",
       "      <td>0.0</td>\n",
       "      <td>0.0</td>\n",
       "      <td>0.0</td>\n",
       "      <td>0.002</td>\n",
       "      <td>0.0</td>\n",
       "      <td>0.0</td>\n",
       "      <td>0.000493</td>\n",
       "      <td>0.001058</td>\n",
       "      <td>1</td>\n",
       "      <td>1</td>\n",
       "    </tr>\n",
       "    <tr>\n",
       "      <th>47738</th>\n",
       "      <td>0.0</td>\n",
       "      <td>0.0</td>\n",
       "      <td>0.0</td>\n",
       "      <td>0.0</td>\n",
       "      <td>1.0</td>\n",
       "      <td>0.0</td>\n",
       "      <td>0.0</td>\n",
       "      <td>0.0</td>\n",
       "      <td>0.0</td>\n",
       "      <td>0.0</td>\n",
       "      <td>...</td>\n",
       "      <td>0.0</td>\n",
       "      <td>0.0</td>\n",
       "      <td>0.014</td>\n",
       "      <td>0.058</td>\n",
       "      <td>0.001</td>\n",
       "      <td>0.0</td>\n",
       "      <td>0.004121</td>\n",
       "      <td>0.005323</td>\n",
       "      <td>1</td>\n",
       "      <td>1</td>\n",
       "    </tr>\n",
       "  </tbody>\n",
       "</table>\n",
       "<p>47739 rows × 102 columns</p>\n",
       "</div>"
      ],
      "text/plain": [
       "      onehotencoder__sAddress_0 onehotencoder__sAddress_1   \n",
       "0                           1.0                       0.0  \\\n",
       "1                           0.0                       1.0   \n",
       "2                           1.0                       0.0   \n",
       "3                           1.0                       0.0   \n",
       "4                           0.0                       1.0   \n",
       "...                         ...                       ...   \n",
       "47734                       1.0                       0.0   \n",
       "47735                       0.0                       1.0   \n",
       "47736                       0.0                       0.0   \n",
       "47737                       0.0                       0.0   \n",
       "47738                       0.0                       0.0   \n",
       "\n",
       "      onehotencoder__sAddress_2 onehotencoder__sAddress_3   \n",
       "0                           0.0                       0.0  \\\n",
       "1                           0.0                       0.0   \n",
       "2                           0.0                       0.0   \n",
       "3                           0.0                       0.0   \n",
       "4                           0.0                       0.0   \n",
       "...                         ...                       ...   \n",
       "47734                       0.0                       0.0   \n",
       "47735                       0.0                       0.0   \n",
       "47736                       1.0                       0.0   \n",
       "47737                       0.0                       1.0   \n",
       "47738                       0.0                       0.0   \n",
       "\n",
       "      onehotencoder__sAddress_4 onehotencoder__sAddress_5   \n",
       "0                           0.0                       0.0  \\\n",
       "1                           0.0                       0.0   \n",
       "2                           0.0                       0.0   \n",
       "3                           0.0                       0.0   \n",
       "4                           0.0                       0.0   \n",
       "...                         ...                       ...   \n",
       "47734                       0.0                       0.0   \n",
       "47735                       0.0                       0.0   \n",
       "47736                       0.0                       0.0   \n",
       "47737                       0.0                       0.0   \n",
       "47738                       1.0                       0.0   \n",
       "\n",
       "      onehotencoder__sAddress_6 onehotencoder__rAddress_0   \n",
       "0                           0.0                       1.0  \\\n",
       "1                           0.0                       0.0   \n",
       "2                           0.0                       0.0   \n",
       "3                           0.0                       0.0   \n",
       "4                           0.0                       0.0   \n",
       "...                         ...                       ...   \n",
       "47734                       0.0                       0.0   \n",
       "47735                       0.0                       0.0   \n",
       "47736                       0.0                       0.0   \n",
       "47737                       0.0                       0.0   \n",
       "47738                       0.0                       0.0   \n",
       "\n",
       "      onehotencoder__rAddress_1 onehotencoder__rAddress_2  ...   \n",
       "0                           0.0                       0.0  ...  \\\n",
       "1                           1.0                       0.0  ...   \n",
       "2                           1.0                       0.0  ...   \n",
       "3                           0.0                       1.0  ...   \n",
       "4                           0.0                       1.0  ...   \n",
       "...                         ...                       ...  ...   \n",
       "47734                       0.0                       1.0  ...   \n",
       "47735                       0.0                       1.0  ...   \n",
       "47736                       0.0                       0.0  ...   \n",
       "47737                       0.0                       0.0  ...   \n",
       "47738                       0.0                       0.0  ...   \n",
       "\n",
       "      remainder__sFragmentRate remainder__rFragmentRate   \n",
       "0                          0.0                      0.0  \\\n",
       "1                          0.0                      0.0   \n",
       "2                          0.0                      0.0   \n",
       "3                          0.0                      0.0   \n",
       "4                          0.0                      0.0   \n",
       "...                        ...                      ...   \n",
       "47734                      0.0                      0.0   \n",
       "47735                      0.0                      0.0   \n",
       "47736                      0.0                      0.0   \n",
       "47737                      0.0                      0.0   \n",
       "47738                      0.0                      0.0   \n",
       "\n",
       "      remainder__sAckDelayMax remainder__rAckDelayMax remainder__sAckDelayMin   \n",
       "0                       0.198                     0.2                     0.0  \\\n",
       "1                       0.195                   0.001                     0.0   \n",
       "2                        0.19                   0.001                     0.0   \n",
       "3                       0.001                   0.491                     0.0   \n",
       "4                         0.0                   0.496                     0.0   \n",
       "...                       ...                     ...                     ...   \n",
       "47734                   0.001                   0.042                     0.0   \n",
       "47735                     0.0                   0.041                     0.0   \n",
       "47736                   0.018                   0.015                   0.001   \n",
       "47737                     0.0                   0.002                     0.0   \n",
       "47738                   0.014                   0.058                   0.001   \n",
       "\n",
       "      remainder__rAckDelayMin remainder__sAckDelayAvg remainder__rAckDelayAvg   \n",
       "0                         0.0                0.020279                0.028912  \\\n",
       "1                         0.0                0.020338                0.000455   \n",
       "2                         0.0                0.015988                0.000537   \n",
       "3                         0.0                0.000578                 0.04882   \n",
       "4                         0.0                0.000423                0.077478   \n",
       "...                       ...                     ...                     ...   \n",
       "47734                     0.0                0.000525                0.005118   \n",
       "47735                   0.001                0.000436                 0.01411   \n",
       "47736                     0.0                0.004494                0.001453   \n",
       "47737                     0.0                0.000493                0.001058   \n",
       "47738                     0.0                0.004121                0.005323   \n",
       "\n",
       "      remainder__IT_B_Label remainder__NST_B_Label  \n",
       "0                         0                      0  \n",
       "1                         0                      0  \n",
       "2                         0                      0  \n",
       "3                         0                      0  \n",
       "4                         0                      0  \n",
       "...                     ...                    ...  \n",
       "47734                     0                      0  \n",
       "47735                     0                      0  \n",
       "47736                     1                      1  \n",
       "47737                     1                      1  \n",
       "47738                     1                      1  \n",
       "\n",
       "[47739 rows x 102 columns]"
      ]
     },
     "execution_count": 33,
     "metadata": {},
     "output_type": "execute_result"
    }
   ],
   "source": [
    "from sklearn.compose import make_column_transformer\n",
    "from sklearn.preprocessing import OneHotEncoder\n",
    "\n",
    "colunas_categoricas = ['sAddress', 'rAddress', 'rIPs', 'sIPs', 'sMACs', 'rMACs', 'protocol', 'IT_M_Label', 'NST_M_Label']\n",
    "\n",
    "one_hot_enc = make_column_transformer(\n",
    "    (OneHotEncoder(handle_unknown = 'ignore'),\n",
    "    colunas_categoricas),\n",
    "    remainder='passthrough')\n",
    "\n",
    "dados = one_hot_enc.fit_transform(data_bottom)\n",
    "dados = pd.DataFrame(dados, columns=one_hot_enc.get_feature_names_out())\n",
    "dados"
   ]
  }
 ],
 "metadata": {
  "kernelspec": {
   "display_name": "Python 3",
   "language": "python",
   "name": "python3"
  },
  "language_info": {
   "codemirror_mode": {
    "name": "ipython",
    "version": 3
   },
   "file_extension": ".py",
   "mimetype": "text/x-python",
   "name": "python",
   "nbconvert_exporter": "python",
   "pygments_lexer": "ipython3",
   "version": "3.10.6"
  }
 },
 "nbformat": 4,
 "nbformat_minor": 2
}
